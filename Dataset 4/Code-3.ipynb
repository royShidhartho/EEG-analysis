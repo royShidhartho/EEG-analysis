{
 "cells": [
  {
   "cell_type": "markdown",
   "metadata": {},
   "source": [
    "# The steps are - \n",
    "1. Get the right epochs from the good performers\n",
    "2. Find out 31 statistical features\n",
    "3. Associate the microstates\n",
    "4. Plot comparative visualissation between task and background\n",
    "5. Run a group analysis on the features\n",
    "6. Write a csv file with epoch numbers and all the features\n",
    "7. In the first step, we would differentiate between task and background.\n",
    "8. Then in the second step, we would differentiate between good and bad performers."
   ]
  },
  {
   "cell_type": "code",
   "execution_count": 3,
   "metadata": {},
   "outputs": [],
   "source": [
    "import mne\n",
    "import os\n",
    "import matplotlib.pyplot as plt\n",
    "import numpy as np\n",
    "import matplotlib.pyplot as plt\n",
    "from sklearn.cluster import KMeans\n",
    "from scipy.stats import skew, kurtosis\n",
    "import pandas as pd"
   ]
  },
  {
   "cell_type": "code",
   "execution_count": 6,
   "metadata": {},
   "outputs": [
    {
     "data": {
      "text/plain": [
       "['Subject01',\n",
       " 'Subject02',\n",
       " 'Subject03',\n",
       " 'Subject05',\n",
       " 'Subject07',\n",
       " 'Subject08',\n",
       " 'Subject11',\n",
       " 'Subject12',\n",
       " 'Subject13',\n",
       " 'Subject15',\n",
       " 'Subject16',\n",
       " 'Subject17',\n",
       " 'Subject18',\n",
       " 'Subject20',\n",
       " 'Subject23',\n",
       " 'Subject24',\n",
       " 'Subject25',\n",
       " 'Subject26',\n",
       " 'Subject27',\n",
       " 'Subject28',\n",
       " 'Subject29',\n",
       " 'Subject31',\n",
       " 'Subject32',\n",
       " 'Subject33',\n",
       " 'Subject34',\n",
       " 'Subject35']"
      ]
     },
     "execution_count": 6,
     "metadata": {},
     "output_type": "execute_result"
    }
   ],
   "source": [
    "# Load the CSV file again\n",
    "subject_info = pd.read_csv('fullData/subject-info.csv')\n",
    "\n",
    "# Filter rows based on 'Count Quality' column with value of 1\n",
    "filtered_subjects = subject_info[subject_info['Count quality'] == 1]\n",
    "\n",
    "# Extract subject numbers\n",
    "subject_numbers = filtered_subjects.iloc[:, 0].tolist()\n",
    "\n",
    "subject_numbers"
   ]
  },
  {
   "cell_type": "code",
   "execution_count": 5,
   "metadata": {},
   "outputs": [
    {
     "data": {
      "text/html": [
       "<div>\n",
       "<style scoped>\n",
       "    .dataframe tbody tr th:only-of-type {\n",
       "        vertical-align: middle;\n",
       "    }\n",
       "\n",
       "    .dataframe tbody tr th {\n",
       "        vertical-align: top;\n",
       "    }\n",
       "\n",
       "    .dataframe thead th {\n",
       "        text-align: right;\n",
       "    }\n",
       "</style>\n",
       "<table border=\"1\" class=\"dataframe\">\n",
       "  <thead>\n",
       "    <tr style=\"text-align: right;\">\n",
       "      <th></th>\n",
       "      <th>Subject</th>\n",
       "      <th>Age</th>\n",
       "      <th>Gender</th>\n",
       "      <th>Recording year</th>\n",
       "      <th>Number of subtractions</th>\n",
       "      <th>Count quality</th>\n",
       "    </tr>\n",
       "  </thead>\n",
       "  <tbody>\n",
       "    <tr>\n",
       "      <th>0</th>\n",
       "      <td>Subject00</td>\n",
       "      <td>21</td>\n",
       "      <td>F</td>\n",
       "      <td>2011</td>\n",
       "      <td>9.70</td>\n",
       "      <td>0</td>\n",
       "    </tr>\n",
       "    <tr>\n",
       "      <th>1</th>\n",
       "      <td>Subject01</td>\n",
       "      <td>18</td>\n",
       "      <td>F</td>\n",
       "      <td>2011</td>\n",
       "      <td>29.35</td>\n",
       "      <td>1</td>\n",
       "    </tr>\n",
       "    <tr>\n",
       "      <th>2</th>\n",
       "      <td>Subject02</td>\n",
       "      <td>19</td>\n",
       "      <td>F</td>\n",
       "      <td>2012</td>\n",
       "      <td>12.88</td>\n",
       "      <td>1</td>\n",
       "    </tr>\n",
       "    <tr>\n",
       "      <th>3</th>\n",
       "      <td>Subject03</td>\n",
       "      <td>17</td>\n",
       "      <td>F</td>\n",
       "      <td>2010</td>\n",
       "      <td>31.00</td>\n",
       "      <td>1</td>\n",
       "    </tr>\n",
       "    <tr>\n",
       "      <th>4</th>\n",
       "      <td>Subject04</td>\n",
       "      <td>17</td>\n",
       "      <td>F</td>\n",
       "      <td>2010</td>\n",
       "      <td>8.60</td>\n",
       "      <td>0</td>\n",
       "    </tr>\n",
       "  </tbody>\n",
       "</table>\n",
       "</div>"
      ],
      "text/plain": [
       "     Subject  Age Gender  Recording year  Number of subtractions  \\\n",
       "0  Subject00   21      F            2011                    9.70   \n",
       "1  Subject01   18      F            2011                   29.35   \n",
       "2  Subject02   19      F            2012                   12.88   \n",
       "3  Subject03   17      F            2010                   31.00   \n",
       "4  Subject04   17      F            2010                    8.60   \n",
       "\n",
       "   Count quality  \n",
       "0              0  \n",
       "1              1  \n",
       "2              1  \n",
       "3              1  \n",
       "4              0  "
      ]
     },
     "execution_count": 5,
     "metadata": {},
     "output_type": "execute_result"
    }
   ],
   "source": [
    "# Display the first few rows of the CSV file to inspect the column names\n",
    "subject_info.head()"
   ]
  },
  {
   "cell_type": "code",
   "execution_count": 2,
   "metadata": {},
   "outputs": [
    {
     "ename": "NameError",
     "evalue": "name 'subject_numbers' is not defined",
     "output_type": "error",
     "traceback": [
      "\u001b[0;31m---------------------------------------------------------------------------\u001b[0m",
      "\u001b[0;31mNameError\u001b[0m                                 Traceback (most recent call last)",
      "Cell \u001b[0;32mIn [2], line 29\u001b[0m\n\u001b[1;32m     26\u001b[0m     \u001b[38;5;28;01mreturn\u001b[39;00m epochs_data\n\u001b[1;32m     28\u001b[0m \u001b[38;5;66;03m# Load epochs for the first subject in our list for demonstration\u001b[39;00m\n\u001b[0;32m---> 29\u001b[0m subject_epochs \u001b[38;5;241m=\u001b[39m load_epochs_for_subject(\u001b[43msubject_numbers\u001b[49m[\u001b[38;5;241m0\u001b[39m])\n\u001b[1;32m     30\u001b[0m \u001b[38;5;28mlist\u001b[39m(subject_epochs\u001b[38;5;241m.\u001b[39mkeys())\n",
      "\u001b[0;31mNameError\u001b[0m: name 'subject_numbers' is not defined"
     ]
    }
   ],
   "source": [
    "# Filter rows based on 'Count quality' column with value of 1\n",
    "filtered_subjects = subject_info[subject_info['Count quality'] == 1]\n",
    "\n",
    "# Extract subject numbers\n",
    "subject_numbers = filtered_subjects['Subject'].str[-2:].tolist()\n",
    "\n",
    "subject_numbers\n",
    "\n",
    "# Directory containing the EEG data\n",
    "data_dir = \"data/\"\n",
    "\n",
    "# List all the .edf files in the directory\n",
    "all_files = [f for f in os.listdir(data_dir) if f.endswith('.edf')]\n",
    "\n",
    "# Function to load epochs for a given subject number\n",
    "def load_epochs_for_subject(subject_num):\n",
    "    # Generate the prefix for the filenames based on the subject number\n",
    "    prefix = f\"data_Subject{subject_num}\"\n",
    "    \n",
    "    # Filter the files that match the prefix\n",
    "    subject_files = [f for f in all_files if f.startswith(prefix)]\n",
    "    \n",
    "    # Load the EDF files for the subject\n",
    "    epochs_data = {}\n",
    "    for file in subject_files:\n",
    "        # Extract task and epoch number from the filename\n",
    "        _, _, task, epoch = file.split('_')\n",
    "        epoch = epoch.split('.')[0]\n",
    "        \n",
    "        # Load the EDF file\n",
    "        epoch_data = mne.io.read_raw_edf(os.path.join(data_dir, file), preload=True, verbose=False)\n",
    "        epochs_data[(task, epoch)] = epoch_data\n",
    "    \n",
    "    return epochs_data\n",
    "\n",
    "# Load epochs for the first subject in our list for demonstration\n",
    "subject_epochs = load_epochs_for_subject(subject_numbers[0])\n",
    "list(subject_epochs.keys())"
   ]
  }
 ],
 "metadata": {
  "kernelspec": {
   "display_name": "Python 3.9.6 64-bit",
   "language": "python",
   "name": "python3"
  },
  "language_info": {
   "codemirror_mode": {
    "name": "ipython",
    "version": 3
   },
   "file_extension": ".py",
   "mimetype": "text/x-python",
   "name": "python",
   "nbconvert_exporter": "python",
   "pygments_lexer": "ipython3",
   "version": "3.9.6"
  },
  "orig_nbformat": 4,
  "vscode": {
   "interpreter": {
    "hash": "aee8b7b246df8f9039afb4144a1f6fd8d2ca17a180786b69acc140d282b71a49"
   }
  }
 },
 "nbformat": 4,
 "nbformat_minor": 2
}
