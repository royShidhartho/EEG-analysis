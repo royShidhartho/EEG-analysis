{
 "cells": [
  {
   "cell_type": "markdown",
   "metadata": {},
   "source": [
    "# EEG data import"
   ]
  },
  {
   "cell_type": "code",
   "execution_count": 1,
   "metadata": {},
   "outputs": [
    {
     "name": "stdout",
     "output_type": "stream",
     "text": [
      "Extracting EDF parameters from /Users/sid/Documents/GitHub/EEG analysis/EEG-analysis/fullData/Subject01_1.edf...\n",
      "EDF file detected\n"
     ]
    },
    {
     "ename": "FileNotFoundError",
     "evalue": "[Errno 2] No such file or directory: '/Users/sid/Documents/GitHub/EEG analysis/EEG-analysis/fullData/Subject01_1.edf'",
     "output_type": "error",
     "traceback": [
      "\u001b[0;31m---------------------------------------------------------------------------\u001b[0m",
      "\u001b[0;31mFileNotFoundError\u001b[0m                         Traceback (most recent call last)",
      "Cell \u001b[0;32mIn [1], line 10\u001b[0m\n\u001b[1;32m      7\u001b[0m \u001b[38;5;28;01mfrom\u001b[39;00m \u001b[38;5;21;01mscipy\u001b[39;00m\u001b[38;5;21;01m.\u001b[39;00m\u001b[38;5;21;01mstats\u001b[39;00m \u001b[38;5;28;01mimport\u001b[39;00m skew, kurtosis\n\u001b[1;32m      9\u001b[0m \u001b[38;5;66;03m# Load the EDF file\u001b[39;00m\n\u001b[0;32m---> 10\u001b[0m raw_bg \u001b[38;5;241m=\u001b[39m \u001b[43mmne\u001b[49m\u001b[38;5;241;43m.\u001b[39;49m\u001b[43mio\u001b[49m\u001b[38;5;241;43m.\u001b[39;49m\u001b[43mread_raw_edf\u001b[49m\u001b[43m(\u001b[49m\u001b[38;5;124;43m\"\u001b[39;49m\u001b[38;5;124;43mfullData/Subject01_1.edf\u001b[39;49m\u001b[38;5;124;43m\"\u001b[39;49m\u001b[43m,\u001b[49m\u001b[43m \u001b[49m\u001b[43mpreload\u001b[49m\u001b[38;5;241;43m=\u001b[39;49m\u001b[38;5;28;43;01mTrue\u001b[39;49;00m\u001b[43m)\u001b[49m\n",
      "File \u001b[0;32m/Library/Frameworks/Python.framework/Versions/3.9/lib/python3.9/site-packages/mne/io/edf/edf.py:1220\u001b[0m, in \u001b[0;36mread_raw_edf\u001b[0;34m(input_fname, eog, misc, stim_channel, exclude, preload, verbose)\u001b[0m\n\u001b[1;32m   1217\u001b[0m \u001b[39mif\u001b[39;00m ext \u001b[39m!=\u001b[39m \u001b[39m'\u001b[39m\u001b[39medf\u001b[39m\u001b[39m'\u001b[39m:\n\u001b[1;32m   1218\u001b[0m     \u001b[39mraise\u001b[39;00m \u001b[39mNotImplementedError\u001b[39;00m(\n\u001b[1;32m   1219\u001b[0m         \u001b[39m'\u001b[39m\u001b[39mOnly EDF files are supported by read_raw_edf, got \u001b[39m\u001b[39m%s\u001b[39;00m\u001b[39m'\u001b[39m \u001b[39m%\u001b[39m (ext,))\n\u001b[0;32m-> 1220\u001b[0m \u001b[39mreturn\u001b[39;00m RawEDF(input_fname\u001b[39m=\u001b[39;49minput_fname, eog\u001b[39m=\u001b[39;49meog, misc\u001b[39m=\u001b[39;49mmisc,\n\u001b[1;32m   1221\u001b[0m               stim_channel\u001b[39m=\u001b[39;49mstim_channel, exclude\u001b[39m=\u001b[39;49mexclude, preload\u001b[39m=\u001b[39;49mpreload,\n\u001b[1;32m   1222\u001b[0m               verbose\u001b[39m=\u001b[39;49mverbose)\n",
      "File \u001b[0;32m<decorator-gen-197>:24\u001b[0m, in \u001b[0;36m__init__\u001b[0;34m(self, input_fname, eog, misc, stim_channel, exclude, preload, verbose)\u001b[0m\n",
      "File \u001b[0;32m/Library/Frameworks/Python.framework/Versions/3.9/lib/python3.9/site-packages/mne/io/edf/edf.py:114\u001b[0m, in \u001b[0;36mRawEDF.__init__\u001b[0;34m(self, input_fname, eog, misc, stim_channel, exclude, preload, verbose)\u001b[0m\n\u001b[1;32m    112\u001b[0m logger\u001b[39m.\u001b[39minfo(\u001b[39m'\u001b[39m\u001b[39mExtracting EDF parameters from \u001b[39m\u001b[39m{}\u001b[39;00m\u001b[39m...\u001b[39m\u001b[39m'\u001b[39m\u001b[39m.\u001b[39mformat(input_fname))\n\u001b[1;32m    113\u001b[0m input_fname \u001b[39m=\u001b[39m os\u001b[39m.\u001b[39mpath\u001b[39m.\u001b[39mabspath(input_fname)\n\u001b[0;32m--> 114\u001b[0m info, edf_info, orig_units \u001b[39m=\u001b[39m _get_info(input_fname,\n\u001b[1;32m    115\u001b[0m                                        stim_channel, eog, misc,\n\u001b[1;32m    116\u001b[0m                                        exclude, preload)\n\u001b[1;32m    117\u001b[0m logger\u001b[39m.\u001b[39minfo(\u001b[39m'\u001b[39m\u001b[39mCreating raw.info structure...\u001b[39m\u001b[39m'\u001b[39m)\n\u001b[1;32m    119\u001b[0m \u001b[39m# Raw attributes\u001b[39;00m\n",
      "File \u001b[0;32m/Library/Frameworks/Python.framework/Versions/3.9/lib/python3.9/site-packages/mne/io/edf/edf.py:358\u001b[0m, in \u001b[0;36m_get_info\u001b[0;34m(fname, stim_channel, eog, misc, exclude, preload)\u001b[0m\n\u001b[1;32m    355\u001b[0m eog \u001b[39m=\u001b[39m eog \u001b[39mif\u001b[39;00m eog \u001b[39mis\u001b[39;00m \u001b[39mnot\u001b[39;00m \u001b[39mNone\u001b[39;00m \u001b[39melse\u001b[39;00m []\n\u001b[1;32m    356\u001b[0m misc \u001b[39m=\u001b[39m misc \u001b[39mif\u001b[39;00m misc \u001b[39mis\u001b[39;00m \u001b[39mnot\u001b[39;00m \u001b[39mNone\u001b[39;00m \u001b[39melse\u001b[39;00m []\n\u001b[0;32m--> 358\u001b[0m edf_info, orig_units \u001b[39m=\u001b[39m _read_header(fname, exclude)\n\u001b[1;32m    360\u001b[0m \u001b[39m# XXX: `tal_ch_names` to pass to `_check_stim_channel` should be computed\u001b[39;00m\n\u001b[1;32m    361\u001b[0m \u001b[39m#      from `edf_info['ch_names']` and `edf_info['tal_idx']` but 'tal_idx'\u001b[39;00m\n\u001b[1;32m    362\u001b[0m \u001b[39m#      contains stim channels that are not TAL.\u001b[39;00m\n\u001b[1;32m    363\u001b[0m stim_channel_idxs, _ \u001b[39m=\u001b[39m _check_stim_channel(\n\u001b[1;32m    364\u001b[0m     stim_channel, edf_info[\u001b[39m'\u001b[39m\u001b[39mch_names\u001b[39m\u001b[39m'\u001b[39m])\n",
      "File \u001b[0;32m/Library/Frameworks/Python.framework/Versions/3.9/lib/python3.9/site-packages/mne/io/edf/edf.py:345\u001b[0m, in \u001b[0;36m_read_header\u001b[0;34m(fname, exclude)\u001b[0m\n\u001b[1;32m    343\u001b[0m logger\u001b[39m.\u001b[39minfo(\u001b[39m'\u001b[39m\u001b[39m%s\u001b[39;00m\u001b[39m file detected\u001b[39m\u001b[39m'\u001b[39m \u001b[39m%\u001b[39m ext\u001b[39m.\u001b[39mupper())\n\u001b[1;32m    344\u001b[0m \u001b[39mif\u001b[39;00m ext \u001b[39min\u001b[39;00m (\u001b[39m'\u001b[39m\u001b[39mbdf\u001b[39m\u001b[39m'\u001b[39m, \u001b[39m'\u001b[39m\u001b[39medf\u001b[39m\u001b[39m'\u001b[39m):\n\u001b[0;32m--> 345\u001b[0m     \u001b[39mreturn\u001b[39;00m _read_edf_header(fname, exclude)\n\u001b[1;32m    346\u001b[0m \u001b[39melif\u001b[39;00m ext \u001b[39m==\u001b[39m \u001b[39m'\u001b[39m\u001b[39mgdf\u001b[39m\u001b[39m'\u001b[39m:\n\u001b[1;32m    347\u001b[0m     \u001b[39mreturn\u001b[39;00m _read_gdf_header(fname, exclude), \u001b[39mNone\u001b[39;00m\n",
      "File \u001b[0;32m/Library/Frameworks/Python.framework/Versions/3.9/lib/python3.9/site-packages/mne/io/edf/edf.py:527\u001b[0m, in \u001b[0;36m_read_edf_header\u001b[0;34m(fname, exclude)\u001b[0m\n\u001b[1;32m    524\u001b[0m \u001b[39m\"\"\"Read header information from EDF+ or BDF file.\"\"\"\u001b[39;00m\n\u001b[1;32m    525\u001b[0m edf_info \u001b[39m=\u001b[39m {\u001b[39m'\u001b[39m\u001b[39mevents\u001b[39m\u001b[39m'\u001b[39m: []}\n\u001b[0;32m--> 527\u001b[0m \u001b[39mwith\u001b[39;00m \u001b[39mopen\u001b[39;49m(fname, \u001b[39m'\u001b[39;49m\u001b[39mrb\u001b[39;49m\u001b[39m'\u001b[39;49m) \u001b[39mas\u001b[39;00m fid:\n\u001b[1;32m    529\u001b[0m     fid\u001b[39m.\u001b[39mread(\u001b[39m8\u001b[39m)  \u001b[39m# version (unused here)\u001b[39;00m\n\u001b[1;32m    531\u001b[0m     \u001b[39m# patient ID\u001b[39;00m\n",
      "\u001b[0;31mFileNotFoundError\u001b[0m: [Errno 2] No such file or directory: '/Users/sid/Documents/GitHub/EEG analysis/EEG-analysis/fullData/Subject01_1.edf'"
     ]
    }
   ],
   "source": [
    "import mne\n",
    "import os\n",
    "import matplotlib.pyplot as plt\n",
    "import numpy as np\n",
    "import matplotlib.pyplot as plt\n",
    "from sklearn.cluster import KMeans\n",
    "from scipy.stats import skew, kurtosis\n",
    "\n",
    "# Load the EDF file\n",
    "raw_bg = mne.io.read_raw_edf(\"fullData/Subject01_1.edf\", preload=True)"
   ]
  },
  {
   "cell_type": "markdown",
   "metadata": {},
   "source": [
    "# Preprocessing"
   ]
  },
  {
   "cell_type": "code",
   "execution_count": null,
   "metadata": {},
   "outputs": [],
   "source": []
  },
  {
   "cell_type": "markdown",
   "metadata": {},
   "source": [
    "# Filtering"
   ]
  },
  {
   "cell_type": "code",
   "execution_count": null,
   "metadata": {},
   "outputs": [],
   "source": []
  },
  {
   "cell_type": "markdown",
   "metadata": {},
   "source": [
    "# Spectral decomposition"
   ]
  },
  {
   "cell_type": "code",
   "execution_count": null,
   "metadata": {},
   "outputs": [],
   "source": []
  },
  {
   "cell_type": "markdown",
   "metadata": {},
   "source": [
    "# Epoching"
   ]
  },
  {
   "cell_type": "code",
   "execution_count": null,
   "metadata": {},
   "outputs": [],
   "source": []
  },
  {
   "cell_type": "markdown",
   "metadata": {},
   "source": [
    "# Analysis"
   ]
  },
  {
   "cell_type": "code",
   "execution_count": null,
   "metadata": {},
   "outputs": [],
   "source": []
  }
 ],
 "metadata": {
  "kernelspec": {
   "display_name": "Python 3.9.6 64-bit",
   "language": "python",
   "name": "python3"
  },
  "language_info": {
   "codemirror_mode": {
    "name": "ipython",
    "version": 3
   },
   "file_extension": ".py",
   "mimetype": "text/x-python",
   "name": "python",
   "nbconvert_exporter": "python",
   "pygments_lexer": "ipython3",
   "version": "3.9.6"
  },
  "orig_nbformat": 4,
  "vscode": {
   "interpreter": {
    "hash": "aee8b7b246df8f9039afb4144a1f6fd8d2ca17a180786b69acc140d282b71a49"
   }
  }
 },
 "nbformat": 4,
 "nbformat_minor": 2
}
